{
 "cells": [
  {
   "cell_type": "markdown",
   "id": "d895e6e5",
   "metadata": {},
   "source": [
    "# Challenge 1\n",
    "Have the function MinWindowSubstring(strArr) take the array of strings stored in strArr, which will contain only two strings, the first parameter being the string N and the second parameter being a string K of some characters, and your goal is to determine the smallest substring of N that contains all the characters in K. For example: if strArr is [\"aaabaaddae\", \"aed\"] then the smallest substring of N that contains the characters a, e, and d is \"dae\" located at the end of the string. So for this example your program should return the string dae.\n",
    "\n",
    "Another example: if strArr is [\"aabdccdbcacd\", \"aad\"] then the smallest substring of N that contains all of the characters in K is \"aabd\" which is located at the beginning of the string. Both parameters will be strings ranging in length from 1 to 50 characters and all of K's characters will exist somewhere in the string N. Both strings will only contains lowercase alphabetic characters.\n",
    "Examples\n",
    "Input: [\"ahffaksfajeeubsne\", \"jefaa\"]\n",
    "Output: aksfaje\n",
    "Input: [\"aaffhkksemckelloe\", \"fhea\"]\n",
    "Output: affhkkse"
   ]
  },
  {
   "cell_type": "code",
   "execution_count": 2,
   "id": "cb2a6b5c",
   "metadata": {},
   "outputs": [
    {
     "name": "stdout",
     "output_type": "stream",
     "text": [
      "aabd\n",
      "aksfaje\n",
      "affhkkse\n"
     ]
    }
   ],
   "source": [
    "def MinWindowSubstring(strArr):\n",
    "\n",
    "    # code goes here\n",
    "    text = strArr[0]\n",
    "    toFind = list(strArr[1])\n",
    "    looping_string = [] # it is the array that will contain char of currently looping matched sub string\n",
    "    result = text\n",
    "\n",
    "    for index, letter in enumerate(text):\n",
    "\n",
    "        if letter in toFind:\n",
    "\n",
    "            for char in text[index:]:\n",
    "                if char in toFind:\n",
    "\n",
    "                    toFind.remove(char)\n",
    "\n",
    "\n",
    "                    if not toFind:  # if to find array becomes empty\n",
    "                        looping_string.append(char)\n",
    "                        new_substring = ''.join(looping_string)\n",
    "\n",
    "                        if not result:\n",
    "                            result = new_substring\n",
    "                        elif len(new_substring) < len(result):\n",
    "                            result = new_substring\n",
    "\n",
    "                        break\n",
    "\n",
    "                looping_string.append(char)\n",
    "\n",
    "            looping_string = ['']\n",
    "            toFind = list(strArr[1])\n",
    "\n",
    "    return result\n",
    "\n",
    "\n",
    "# keep this function call here \n",
    "print(MinWindowSubstring([\"aabdccdbcacd\", \"aad\"]))\n",
    "print(MinWindowSubstring([\"ahffaksfajeeubsne\", \"jefaa\"]))\n",
    "print(MinWindowSubstring([\"aaffhkksemckelloe\", \"fhea\"]))"
   ]
  },
  {
   "cell_type": "markdown",
   "id": "7a284625",
   "metadata": {},
   "source": [
    "# Challenge 2\n",
    "Have the function ArrayRotation(arr) take the arr parameter being passed which will be an array of non-negative integers and circularly rotate the array starting from the Nth element where N is equal to the first integer in the array. For example: if arr is [2, 3, 4, 1, 6, 10] then your program should rotate the array starting from the 2nd position because the first element in the array is 2. The final array will therefore be [4, 1, 6, 10, 2, 3], and your program should return the new array as a string, so for this example your program would return 4161023. The first element in the array will always be an integer greater than or equal to 0 and less than the size of the array.\n",
    "Examples\n",
    "Input: [3,2,1,6]\n",
    "Output: 6321\n",
    "Input: [4,3,4,3,1,2]\n",
    "Output: 124343"
   ]
  },
  {
   "cell_type": "code",
   "execution_count": 5,
   "id": "915bdff2",
   "metadata": {},
   "outputs": [
    {
     "name": "stdout",
     "output_type": "stream",
     "text": [
      "4161023\n",
      "6321\n",
      "124343\n"
     ]
    }
   ],
   "source": [
    "def ArrayRotation(arr):\n",
    "\n",
    "    start = arr[0]\n",
    "    str_array = [str(x) for x in arr]\n",
    "    \n",
    "    result_arr = ''.join(str_array[start:]) + ''.join(str_array[:start])\n",
    "\n",
    "    return result_arr\n",
    "\n",
    "\n",
    "print(ArrayRotation([2, 3, 4, 1, 6, 10]))\n",
    "print(ArrayRotation([3,2,1,6]))\n",
    "print(ArrayRotation([4,3,4,3,1,2]))"
   ]
  }
 ],
 "metadata": {
  "kernelspec": {
   "display_name": "Python 3",
   "language": "python",
   "name": "python3"
  },
  "language_info": {
   "codemirror_mode": {
    "name": "ipython",
    "version": 3
   },
   "file_extension": ".py",
   "mimetype": "text/x-python",
   "name": "python",
   "nbconvert_exporter": "python",
   "pygments_lexer": "ipython3",
   "version": "3.8.8"
  }
 },
 "nbformat": 4,
 "nbformat_minor": 5
}
