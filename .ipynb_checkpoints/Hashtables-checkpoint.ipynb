{
 "cells": [
  {
   "cell_type": "code",
   "execution_count": 51,
   "id": "53f4fe8d",
   "metadata": {},
   "outputs": [],
   "source": [
    "def hashfunc(val):\n",
    "    return val % 20\n",
    "\n",
    "\n",
    "def insert(val):\n",
    "    key = hashfunc(val)\n",
    "    hash_table[key] = val\n",
    "    return 1\n",
    "\n",
    "def search(val):\n",
    "    key = hashfunc(val)\n",
    "    if hash_table[key]:\n",
    "        return 1\n"
   ]
  },
  {
   "cell_type": "code",
   "execution_count": 71,
   "id": "88eebf1c",
   "metadata": {},
   "outputs": [
    {
     "name": "stdout",
     "output_type": "stream",
     "text": [
      "(2, 7)\n",
      "(3, 2)\n",
      "(3, 3)\n"
     ]
    }
   ],
   "source": [
    "hash_table = [None]*20\n",
    "\n",
    "def twoSum(arr, target):\n",
    "   \n",
    "    \n",
    "    for n in arr:\n",
    "        insert(n)\n",
    "        \n",
    "    for num1 in arr:\n",
    "        num2 = target - num1\n",
    "        \n",
    "        index = hashfunc(num2)\n",
    "        \n",
    "        if hash_table[index]:\n",
    "            return (num1, num2)\n",
    "        \n",
    "print(twoSum([2,7,11,15], 9))\n",
    "print(twoSum([3,2,4], 5))\n",
    "print(twoSum([3], 6))\n"
   ]
  },
  {
   "cell_type": "code",
   "execution_count": 67,
   "id": "306e8ed0",
   "metadata": {},
   "outputs": [
    {
     "data": {
      "text/plain": [
       "(2, 7)"
      ]
     },
     "execution_count": 67,
     "metadata": {},
     "output_type": "execute_result"
    }
   ],
   "source": []
  }
 ],
 "metadata": {
  "kernelspec": {
   "display_name": "Python 3",
   "language": "python",
   "name": "python3"
  },
  "language_info": {
   "codemirror_mode": {
    "name": "ipython",
    "version": 3
   },
   "file_extension": ".py",
   "mimetype": "text/x-python",
   "name": "python",
   "nbconvert_exporter": "python",
   "pygments_lexer": "ipython3",
   "version": "3.8.8"
  }
 },
 "nbformat": 4,
 "nbformat_minor": 5
}
