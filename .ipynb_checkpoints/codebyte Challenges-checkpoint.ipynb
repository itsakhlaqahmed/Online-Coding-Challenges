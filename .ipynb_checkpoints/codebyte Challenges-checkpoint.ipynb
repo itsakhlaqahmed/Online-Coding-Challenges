{
 "cells": [
  {
   "cell_type": "markdown",
   "id": "29ee29c2",
   "metadata": {},
   "source": [
    "## Have the function MinWindowSubstring(strArr) take the array of strings stored in strArr, which will contain only two strings, the first parameter being the string N and the second parameter being a string K of some characters, and your goal is to determine the smallest substring of N that contains all the characters in K. For example: if strArr is [\"aaabaaddae\", \"aed\"] then the smallest substring of N that contains the characters a, e, and d is \"dae\" located at the end of the string. So for this example your program should return the string dae.\n",
    "\n",
    "Another example: if strArr is [\"aabdccdbcacd\", \"aad\"] then the smallest substring of N that contains all of the characters in K is \"aabd\" which is located at the beginning of the string. Both parameters will be strings ranging in length from 1 to 50 characters and all of K's characters will exist somewhere in the string N. Both strings will only contains lowercase alphabetic characters.\n",
    "Examples\n",
    "Input: [\"ahffaksfajeeubsne\", \"jefaa\"]\n",
    "Output: aksfaje\n",
    "Input: [\"aaffhkksemckelloe\", \"fhea\"]\n",
    "Output: affhkkse"
   ]
  },
  {
   "cell_type": "code",
   "execution_count": 76,
   "id": "cb2a6b5c",
   "metadata": {},
   "outputs": [
    {
     "name": "stdout",
     "output_type": "stream",
     "text": [
      "aabd\n",
      "aksfaje\n",
      "affhkkse\n"
     ]
    }
   ],
   "source": [
    "def lowest_string(arr):\n",
    "    short_string = arr[0]\n",
    "    \n",
    "    for string in arr:\n",
    "        if len(string) < len(short_string):\n",
    "            short_string = string\n",
    "            \n",
    "    return (short_string)\n",
    "\n",
    "\n",
    "\n",
    "def find(arr):\n",
    "    text = arr[0]\n",
    "    toFind = list(arr[1])\n",
    "    looping_string = []\n",
    "    substrings_array = []\n",
    "    substring_started = False\n",
    "    \n",
    "    \n",
    "    for index, letter in enumerate(text):\n",
    "            \n",
    "        if letter in toFind:\n",
    "            substring_started = True\n",
    "            \n",
    "            \n",
    "            for i in text[index:]:\n",
    "                \n",
    "                if i in toFind:\n",
    "                    toFind.remove(i)\n",
    "\n",
    "                    if not toFind:   #if all elements are matched then push it to substrings array\n",
    "                        looping_string.append(i)  # add current elm in array\n",
    "                        new_substring = ''.join(looping_string) # array to string\n",
    "                        \n",
    "                        substrings_array.append(new_substring)  # push found substring in array of substrings\n",
    "                        substring_started = False\n",
    "                        break\n",
    "                        \n",
    "\n",
    "\n",
    "                if substring_started:\n",
    "                    looping_string.append(i)\n",
    "                \n",
    "        toFind = list(arr[1])\n",
    "        looping_string = [] # emptying loop\n",
    "            \n",
    "    strArr = lowest_string(substrings_array)\n",
    "    return (strArr)\n",
    "\n",
    "    \n",
    "    \n",
    "find([\"aabdccdbcacd\", \"aad\"])\n",
    "find([\"ahffaksfajeeubsne\", \"jefaa\"])\n",
    "find([\"aaffhkksemckelloe\", \"fhea\"])"
   ]
  },
  {
   "cell_type": "markdown",
   "id": "7a284625",
   "metadata": {},
   "source": [
    "Have the function ArrayRotation(arr) take the arr parameter being passed which will be an array of non-negative integers and circularly rotate the array starting from the Nth element where N is equal to the first integer in the array. For example: if arr is [2, 3, 4, 1, 6, 10] then your program should rotate the array starting from the 2nd position because the first element in the array is 2. The final array will therefore be [4, 1, 6, 10, 2, 3], and your program should return the new array as a string, so for this example your program would return 4161023. The first element in the array will always be an integer greater than or equal to 0 and less than the size of the array.\n",
    "Examples\n",
    "Input: [3,2,1,6]\n",
    "Output: 6321\n",
    "Input: [4,3,4,3,1,2]\n",
    "Output: 124343"
   ]
  },
  {
   "cell_type": "code",
   "execution_count": 94,
   "id": "915bdff2",
   "metadata": {},
   "outputs": [
    {
     "name": "stdout",
     "output_type": "stream",
     "text": [
      "4161023\n",
      "6321\n",
      "124343\n"
     ]
    },
    {
     "data": {
      "text/plain": [
       "'124343'"
      ]
     },
     "execution_count": 94,
     "metadata": {},
     "output_type": "execute_result"
    }
   ],
   "source": [
    "def ArrayRotation(arr):\n",
    "\n",
    "    start = arr[0]\n",
    "    str_array = [str(x) for x in arr]\n",
    "    \n",
    "    result_arr = ''.join(str_array[start:]) + ''.join(str_array[:start])\n",
    "\n",
    "    print(result_arr)\n",
    "    return result_arr\n",
    "\n",
    "\n",
    "ArrayRotation([2, 3, 4, 1, 6, 10])\n",
    "ArrayRotation([3,2,1,6])\n",
    "ArrayRotation([4,3,4,3,1,2])"
   ]
  },
  {
   "cell_type": "code",
   "execution_count": 92,
   "id": "f5ec1e38",
   "metadata": {},
   "outputs": [
    {
     "name": "stdout",
     "output_type": "stream",
     "text": [
      "['1', '2', '3']\n"
     ]
    }
   ],
   "source": [
    "a = [1,2,3]\n",
    "b = [str(x) for x in a]\n",
    "print(b)"
   ]
  },
  {
   "cell_type": "code",
   "execution_count": 96,
   "id": "03f883bd",
   "metadata": {},
   "outputs": [
    {
     "name": "stdout",
     "output_type": "stream",
     "text": [
      "aabd\n",
      "aksfaje\n",
      "affhkkse\n"
     ]
    },
    {
     "data": {
      "text/plain": [
       "'affhkkse'"
      ]
     },
     "execution_count": 96,
     "metadata": {},
     "output_type": "execute_result"
    }
   ],
   "source": [
    "\n",
    "\n",
    "def find(arr):\n",
    "    text = arr[0]\n",
    "    toFind = list(arr[1])\n",
    "    looping_string = []\n",
    "    resulting_String = ''\n",
    "    \n",
    "    for index, letter in enumerate(text):\n",
    "            \n",
    "        if letter in toFind:\n",
    "            substring_started = True\n",
    "            \n",
    "            \n",
    "            for i in text[index:]:\n",
    "                \n",
    "                if i in toFind:\n",
    "                    toFind.remove(i)\n",
    "\n",
    "                    if not toFind:   #if all elements are matched then push it to substrings array\n",
    "                        looping_string.append(i)  # add current elm in array\n",
    "                        new_substring = ''.join(looping_string) # array to string\n",
    "                        \n",
    "                        if len(new_substring) < len(resulting_String):\n",
    "                            \n",
    "                        break\n",
    "                        \n",
    "\n",
    "\n",
    "                looping_string.append(i)\n",
    "                \n",
    "        toFind = list(arr[1])\n",
    "        looping_string = [] # emptying loop\n",
    "            \n",
    "    strArr = lowest_string(substrings_array)\n",
    "    print(strArr)\n",
    "    return (strArr)\n",
    "\n",
    "    \n",
    "    \n",
    "find([\"aabdccdbcacd\", \"aad\"])\n",
    "find([\"ahffaksfajeeubsne\", \"jefaa\"])\n",
    "find([\"aaffhkksemckelloe\", \"fhea\"])"
   ]
  }
 ],
 "metadata": {
  "kernelspec": {
   "display_name": "Python 3",
   "language": "python",
   "name": "python3"
  },
  "language_info": {
   "codemirror_mode": {
    "name": "ipython",
    "version": 3
   },
   "file_extension": ".py",
   "mimetype": "text/x-python",
   "name": "python",
   "nbconvert_exporter": "python",
   "pygments_lexer": "ipython3",
   "version": "3.8.8"
  }
 },
 "nbformat": 4,
 "nbformat_minor": 5
}
