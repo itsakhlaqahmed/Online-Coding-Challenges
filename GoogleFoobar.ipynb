{
 "cells": [
  {
   "cell_type": "code",
   "execution_count": 43,
   "id": "f6935251",
   "metadata": {},
   "outputs": [],
   "source": [
    "def n2b(n, b):\n",
    "    if n == 0:\n",
    "        return [0]\n",
    "    digits = []\n",
    "    while n:\n",
    "        digits.append(str(int(n % b)))\n",
    "        n //= b\n",
    "    return digits[::-1]"
   ]
  },
  {
   "cell_type": "code",
   "execution_count": 49,
   "id": "88b616b3",
   "metadata": {},
   "outputs": [
    {
     "data": {
      "text/plain": [
       "102021111109"
      ]
     },
     "execution_count": 49,
     "metadata": {},
     "output_type": "execute_result"
    }
   ],
   "source": [
    "a = ['a', 'b', 'c']\n",
    "\n",
    "b = int(\"\".join(n2b(222100, 3))) - int(\"\".join(n2b(int(\"00122\"), 3)))\n",
    "b\n",
    "#222100"
   ]
  },
  {
   "cell_type": "code",
   "execution_count": 53,
   "id": "f074e9a7",
   "metadata": {},
   "outputs": [],
   "source": [
    "def digit_to_char(digit):\n",
    "    if digit < 10:\n",
    "        return str(digit)\n",
    "    return chr(ord('a') + digit - 10)\n",
    "\n",
    "def str_base(number,base):\n",
    "    if number < 0:\n",
    "        return '-' + str_base(-number, base)\n",
    "    (d, m) = divmod(number, base)\n",
    "    if d > 0:\n",
    "        return str_base(d, base) + digit_to_char(m)\n",
    "    return digit_to_char(m)"
   ]
  },
  {
   "cell_type": "code",
   "execution_count": 69,
   "id": "2caf773b",
   "metadata": {},
   "outputs": [
    {
     "data": {
      "text/plain": [
       "(568, 1)"
      ]
     },
     "execution_count": 69,
     "metadata": {},
     "output_type": "execute_result"
    }
   ],
   "source": [
    "str_base(-1454, 3)\n",
    "\n",
    "divmod(4545,8)"
   ]
  },
  {
   "cell_type": "code",
   "execution_count": 82,
   "id": "a4a4f445",
   "metadata": {},
   "outputs": [
    {
     "data": {
      "text/plain": [
       "'544145'"
      ]
     },
     "execution_count": 82,
     "metadata": {},
     "output_type": "execute_result"
    }
   ],
   "source": [
    "a = \"11200\"\n",
    "b = \"544145\"\n",
    "dif = len(a) - len(b)\n",
    "if dif > 0: \n",
    "    b = (\"0\" * dif)  + b\n",
    "\n",
    "b"
   ]
  }
 ],
 "metadata": {
  "kernelspec": {
   "display_name": "Python 3",
   "language": "python",
   "name": "python3"
  },
  "language_info": {
   "codemirror_mode": {
    "name": "ipython",
    "version": 3
   },
   "file_extension": ".py",
   "mimetype": "text/x-python",
   "name": "python",
   "nbconvert_exporter": "python",
   "pygments_lexer": "ipython3",
   "version": "3.8.8"
  }
 },
 "nbformat": 4,
 "nbformat_minor": 5
}
