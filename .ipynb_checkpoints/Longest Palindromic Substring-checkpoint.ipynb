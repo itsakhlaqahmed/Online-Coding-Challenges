{
 "cells": [
  {
   "cell_type": "markdown",
   "id": "8579659d",
   "metadata": {},
   "source": [
    "# Longest Palindromic from a text"
   ]
  },
  {
   "cell_type": "code",
   "execution_count": 5,
   "id": "574a75e8",
   "metadata": {},
   "outputs": [
    {
     "name": "stdout",
     "output_type": "stream",
     "text": [
      "Enter Text: radar123321asf fasdfd asdf\n",
      "\n",
      "String: 123321\n"
     ]
    }
   ],
   "source": [
    "# Longest Palindromic Substring\n",
    "# https://leetcode.com/problems/longest-palindromic-substring/\n",
    "\n",
    "text = input(\"Enter Text: \")\n",
    "text_len = len(text)\n",
    "\n",
    "\n",
    "\n",
    "def Longest_Palindromic_Substring(text):\n",
    "  \n",
    "    # if string is empty or has 1 length just return same string\n",
    "    if not len(text) or len(text) == 1:\n",
    "        String = text\n",
    "    \n",
    "    # variable which will track longest palind.\n",
    "    longest = 1\n",
    "    \n",
    "    # looping from each letter to start string slice\n",
    "    for i in range(0,text_len-1):\n",
    "        \n",
    "        #looping each letter to end \n",
    "        for j in range(i+1, text_len):\n",
    "            \n",
    "            # spliting text into small sections\n",
    "            trimed_text = text[i:j]\n",
    "            \n",
    "            \n",
    "            # check if splitted sub string equals to its reverse\n",
    "            if trimed_text == trimed_text[::-1]:\n",
    "            \n",
    "            \n",
    "            # if it is palindrome whether it is larger than the last palindrome\n",
    "                if len(trimed_text) >= longest:\n",
    "                    longest = len(trimed_text)\n",
    "                    String = trimed_text\n",
    "    return String\n",
    "\n",
    "print(\"\\nString:\", Longest_Palindromic_Substring(text))"
   ]
  }
 ],
 "metadata": {},
 "nbformat": 4,
 "nbformat_minor": 5
}
