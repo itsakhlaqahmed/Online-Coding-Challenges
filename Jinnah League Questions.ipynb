{
 "cells": [
  {
   "cell_type": "markdown",
   "id": "8e209fb6",
   "metadata": {},
   "source": [
    "## Finals\n",
    "\n",
    "https://codeforces.com/problemset/problem/1729/A\n",
    "https://codeforces.com/problemset/problem/1633/C\n",
    "https://codeforces.com/problemset/problem/1703/E\n",
    "https://atcoder.jp/contests/dp/tasks/dp_g?lang=en\n",
    "https://codeforces.com/problemset/problem/1651/A\n",
    "https://codeforces.com/problemset/problem/1676/E\n",
    "https://atcoder.jp/contests/dp/tasks/dp_i?lang=en\n",
    "https://codeforces.com/problemset/problem/1705/B"
   ]
  },
  {
   "cell_type": "markdown",
   "id": "9d7767ae",
   "metadata": {},
   "source": [
    "## Qualifiers\n",
    "\n",
    "https://www.hackerrank.com/challenges/x-and-his-shots/problem\n",
    "https://codeforces.com/problemset/problem/1832/A\n",
    "https://atcoder.jp/contests/dp/tasks/dp_m?lang=en\n",
    "https://atcoder.jp/contests/dp/tasks/dp_k?lang=en\n",
    "https://codeforces.com/problemset/problem/43/A\n",
    "https://codeforces.com/problemset/problem/43/B\n",
    "https://codeforces.com/problemset/problem/1800/D\n",
    "https://codeforces.com/problemset/problem/1670/B"
   ]
  },
  {
   "cell_type": "markdown",
   "id": "801d3026",
   "metadata": {},
   "source": [
    "https://vjudge.net/contest/559848\n",
    "Final\n",
    "https://vjudge.net/contest/559691\n",
    "Qualifiers"
   ]
  },
  {
   "cell_type": "code",
   "execution_count": 39,
   "id": "8a1377b6",
   "metadata": {},
   "outputs": [
    {
     "name": "stdout",
     "output_type": "stream",
     "text": [
      "4\n",
      "25 4\n",
      "9 20\n",
      "1 1 10\n",
      "Yes\n",
      "25 4\n",
      "12 20\n",
      "1 1 10\n",
      "No\n",
      "100 1\n",
      "45 2\n",
      "0 4 10\n",
      "Yes\n",
      "9 2\n",
      "69 2\n",
      "4 2 7\n",
      "Yes\n"
     ]
    }
   ],
   "source": [
    "\n",
    "import math\n",
    "\n",
    "def killMonster(hc, dc, hm, dm, coins, attack, health):\n",
    "     \n",
    "    for _ in range(coins+1):\n",
    "        if math.ceil((hc/dm)) / math.ceil(hm/(dc+coins*attack)) < 1:\n",
    "            hc += health\n",
    "            coins -= 1\n",
    "        else:\n",
    "            print('Yes')\n",
    "            break\n",
    "    else:\n",
    "        print('No')\n",
    "\n",
    "\n",
    "n = int(input())\n",
    "\n",
    "for _ in range(n):\n",
    "    hc, dc = map(int, input().split())\n",
    "    hm, dm = map(int, input().split())\n",
    "    coins, attack, health = map(int, input().split())\n",
    "    \n",
    "    killMonster(hc, dc, hm, dm, coins, attack, health)"
   ]
  },
  {
   "cell_type": "code",
   "execution_count": 45,
   "id": "9c6f5cb3",
   "metadata": {},
   "outputs": [
    {
     "name": "stdout",
     "output_type": "stream",
     "text": [
      "4\n",
      "25 4\n",
      "9 20\n",
      "1 1 10\n",
      "YES\n",
      "25 4\n",
      "12 20\n",
      "1 1 10\n",
      "NO\n",
      "100 1\n",
      "45 2\n",
      "0 4 10\n",
      "YES\n",
      "9 2\n",
      "69 2\n",
      "4 2 7\n",
      "YES\n"
     ]
    }
   ],
   "source": [
    "R=lambda:map(int,input().split())\n",
    "t,=R()\n",
    "while t:t-=1;h,d=R();f,c=R();k,w,a=R();print('YNEOS'[all(-(h+a*(k-i))//c>-f//(d+w*i)for\n",
    "i in range(0,k+1))::2])"
   ]
  },
  {
   "cell_type": "code",
   "execution_count": 1,
   "id": "045eb4e9",
   "metadata": {},
   "outputs": [
    {
     "name": "stdout",
     "output_type": "stream",
     "text": [
      "[1, 2, 3, 4, 5] 1\n",
      "[1, 2, 3, 4, 5] 2\n",
      "[1, 2, 3, 4, 5] 3\n",
      "[1, 2, 3, 4, 5] 4\n",
      "[1, 2, 3, 4, 5] 5\n",
      "[6, 7, 8, 9, 0] 6\n",
      "[6, 7, 8, 9, 0] 7\n",
      "[6, 7, 8, 9, 0] 8\n",
      "[6, 7, 8, 9, 0] 9\n",
      "[6, 7, 8, 9, 0] 0\n",
      "[1, 2, 3, 4, 5] 1\n",
      "[1, 2, 3, 4, 5] 2\n",
      "[1, 2, 3, 4, 5] 3\n",
      "[1, 2, 3, 4, 5] 4\n",
      "[1, 2, 3, 4, 5] 5\n",
      "[1, 2, 3, 4, 5] 1\n",
      "[1, 2, 3, 4, 5] 2\n",
      "[1, 2, 3, 4, 5] 3\n",
      "[1, 2, 3, 4, 5] 4\n",
      "[1, 2, 3, 4, 5] 5\n",
      "[6, 7, 8, 9, 0] 6\n",
      "[6, 7, 8, 9, 0] 7\n",
      "[6, 7, 8, 9, 0] 8\n",
      "[6, 7, 8, 9, 0] 9\n",
      "[6, 7, 8, 9, 0] 0\n"
     ]
    }
   ],
   "source": [
    "def mirror(n, grid):\n",
    "    for row in grid:\n",
    "        for i in row:\n",
    "            print(row, i)\n",
    "            \n",
    "\n",
    "\n",
    "mirror(4,[[1,2,3,4,5],[6,7,8,9,0],[1,2,3,4,5],[1,2,3,4,5],[6,7,8,9,0]])"
   ]
  },
  {
   "cell_type": "code",
   "execution_count": 89,
   "id": "54f88bf9",
   "metadata": {},
   "outputs": [
    {
     "name": "stdout",
     "output_type": "stream",
     "text": [
      "5\n",
      "0\n"
     ]
    }
   ],
   "source": [
    "[1,2,3,4,5]\n",
    "[6,7,8,9,0]\n",
    "[1,2,3,4,5]\n",
    "[1,2,3,4,5]\n",
    "[6,7,8,9,0]\n",
    "\n",
    "[0,0] [0,4] [4,4] [4,0]\n",
    "[0,1] [1,4] [4,3] [3,0]\n",
    "[0,2] [2,4] [4,2] [2,0]\n",
    "[0,3] [3,4] [4,1] [1,0]"
   ]
  },
  {
   "cell_type": "code",
   "execution_count": 29,
   "id": "6d1250c7",
   "metadata": {},
   "outputs": [
    {
     "name": "stdout",
     "output_type": "stream",
     "text": [
      "5\n",
      "9 8 7 6 5\n",
      "5 [9, 8, 7, 6, 5]\n"
     ]
    }
   ],
   "source": [
    "R=lambda:map(int,input().split())\n",
    "t,=R()\n",
    "a = R()\n",
    "print(t, list(a))"
   ]
  },
  {
   "cell_type": "code",
   "execution_count": 27,
   "id": "a0bb50e4",
   "metadata": {},
   "outputs": [
    {
     "name": "stdout",
     "output_type": "stream",
     "text": [
      "1\n",
      "2\n",
      "3\n"
     ]
    }
   ],
   "source": []
  }
 ],
 "metadata": {
  "kernelspec": {
   "display_name": "Python 3",
   "language": "python",
   "name": "python3"
  },
  "language_info": {
   "codemirror_mode": {
    "name": "ipython",
    "version": 3
   },
   "file_extension": ".py",
   "mimetype": "text/x-python",
   "name": "python",
   "nbconvert_exporter": "python",
   "pygments_lexer": "ipython3",
   "version": "3.8.8"
  }
 },
 "nbformat": 4,
 "nbformat_minor": 5
}
