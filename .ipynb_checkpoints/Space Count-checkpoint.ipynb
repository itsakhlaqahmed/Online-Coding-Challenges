{
 "cells": [
  {
   "cell_type": "markdown",
   "id": "07bb6172",
   "metadata": {},
   "source": [
    "# A smart and short code to count spaces"
   ]
  },
  {
   "cell_type": "code",
   "execution_count": 1,
   "id": "7d89d6cc",
   "metadata": {},
   "outputs": [
    {
     "data": {
      "text/plain": [
       "7"
      ]
     },
     "execution_count": 1,
     "metadata": {},
     "output_type": "execute_result"
    }
   ],
   "source": [
    "def countSpaces(text):\n",
    "    arr = text.split(' ')  # spliting given string by spaces\n",
    "\n",
    "    # space count of the text would be equal \n",
    "    # to the one less than the length of array\n",
    "    spaceCount = len(arr) - 1 \n",
    "    \n",
    "    return spaceCount\n",
    "\n",
    "\n",
    "countSpaces(\"       \")\n",
    "\n",
    "\n",
    "# done by me\n",
    "# i'm smaaaaaaoooort"
   ]
  }
 ],
 "metadata": {
  "kernelspec": {
   "display_name": "Python 3",
   "language": "python",
   "name": "python3"
  },
  "language_info": {
   "codemirror_mode": {
    "name": "ipython",
    "version": 3
   },
   "file_extension": ".py",
   "mimetype": "text/x-python",
   "name": "python",
   "nbconvert_exporter": "python",
   "pygments_lexer": "ipython3",
   "version": "3.8.8"
  }
 },
 "nbformat": 4,
 "nbformat_minor": 5
}
