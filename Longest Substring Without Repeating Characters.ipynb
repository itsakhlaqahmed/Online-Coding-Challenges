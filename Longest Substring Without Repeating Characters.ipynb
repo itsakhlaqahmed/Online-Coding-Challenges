{
 "cells": [
  {
   "cell_type": "code",
   "execution_count": 27,
   "id": "f03a28f5",
   "metadata": {},
   "outputs": [
    {
     "name": "stdout",
     "output_type": "stream",
     "text": [
      "abc\n"
     ]
    }
   ],
   "source": [
    "def longestSubstring(string):\n",
    "    start_index = 0\n",
    "    end_index = 1\n",
    "    for first, first_letter in enumerate(string):    # 0,a\n",
    "        \n",
    "        for last, letter in enumerate(string[first+1:]):\n",
    "            \n",
    "            if letter == first_letter:\n",
    "\n",
    "                if (end_index-start_index) < (last - first):\n",
    "                    start_index = first\n",
    "                    end_index = last+1\n",
    "                break\n",
    "                \n",
    "                \n",
    "    return string[start_index:end_index]\n",
    "\n",
    "print(longestSubstring(\"abcabcbb\"))\n",
    "# print(longestSubstring('bbbbb'))\n",
    "# \n",
    "# print(longestSubstring('pwabkew'))\n"
   ]
  },
  {
   "cell_type": "code",
   "execution_count": 71,
   "id": "02d818b6",
   "metadata": {},
   "outputs": [
    {
     "name": "stdout",
     "output_type": "stream",
     "text": [
      "3\n",
      "0\n",
      "6\n",
      "3\n"
     ]
    },
    {
     "data": {
      "text/plain": [
       "2"
      ]
     },
     "execution_count": 71,
     "metadata": {},
     "output_type": "execute_result"
    }
   ],
   "source": [
    "def longestSubstring(string):\n",
    "    \n",
    "    if not string:\n",
    "            return string\n",
    "        \n",
    "    longest_str = string[0]\n",
    "    \n",
    "    for first, first_letter in enumerate(string):    # 0,a\n",
    "        current_str = first_letter\n",
    "        \n",
    "        for letter in string[first+1:]:\n",
    "            \n",
    "            if not letter in current_str:\n",
    "                current_str += letter\n",
    "                \n",
    "            else: \n",
    "                break\n",
    "                \n",
    "            if len(current_str) > len(longest_str):\n",
    "                    longest_str = current_str\n",
    "                \n",
    "                \n",
    "    return len(longest_str)\n",
    "\n",
    "print(longestSubstring(\"abcabcbb\"))\n",
    "print(longestSubstring('bbbbb'))\n",
    "print(longestSubstring('pwabkew'))\n",
    "print(longestSubstring('pwwkew'))\n",
    "longestSubstring('au')"
   ]
  },
  {
   "cell_type": "code",
   "execution_count": 62,
   "id": "11e1dff8",
   "metadata": {},
   "outputs": [
    {
     "name": "stdout",
     "output_type": "stream",
     "text": [
      "y\n"
     ]
    },
    {
     "data": {
      "text/plain": [
       "1"
      ]
     },
     "execution_count": 62,
     "metadata": {},
     "output_type": "execute_result"
    }
   ],
   "source": [
    "def longestSubstring(string):\n",
    "    \n",
    "    begin = 0\n",
    "    longest_str = \"\"\n",
    "    current_str = \"\"\n",
    "    \n",
    "    \n",
    "    \n",
    "                \n",
    "    return len(longest_str)\n",
    "\n",
    "\n",
    "\n",
    "\n",
    "print(longestSubstring(\"abcabcbb\"))\n",
    "print(longestSubstring('bbbbb'))\n",
    "print(longestSubstring('pwabkew'))\n",
    "print(longestSubstring('pwwkew'))\n",
    "longestSubstring('au')"
   ]
  },
  {
   "cell_type": "code",
   "execution_count": 70,
   "id": "ac3ef235",
   "metadata": {},
   "outputs": [
    {
     "data": {
      "text/plain": [
       "0"
      ]
     },
     "execution_count": 70,
     "metadata": {},
     "output_type": "execute_result"
    }
   ],
   "source": [
    "for i in range()"
   ]
  }
 ],
 "metadata": {
  "kernelspec": {
   "display_name": "Python 3",
   "language": "python",
   "name": "python3"
  },
  "language_info": {
   "codemirror_mode": {
    "name": "ipython",
    "version": 3
   },
   "file_extension": ".py",
   "mimetype": "text/x-python",
   "name": "python",
   "nbconvert_exporter": "python",
   "pygments_lexer": "ipython3",
   "version": "3.8.8"
  }
 },
 "nbformat": 4,
 "nbformat_minor": 5
}
