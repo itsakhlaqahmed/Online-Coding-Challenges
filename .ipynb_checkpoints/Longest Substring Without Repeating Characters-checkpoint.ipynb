{
 "cells": [
  {
   "cell_type": "code",
   "execution_count": null,
   "id": "a0f7fa25",
   "metadata": {},
   "outputs": [],
   "source": [
    "\n",
    "    \n",
    "\n",
    "def longestSubstring(string):\n",
    "    start_index = 0\n",
    "    end_index = 0\n",
    "    for first, first_letter in enumerate(string):\n",
    "        \n",
    "        for last, letter in enumerate(string[index:]):\n",
    "            if letter == first_letter:\n",
    "                if end_index-start_index < last_letter_index - first_letter_index:\n",
    "                    start_index = first_letter_index\n",
    "                    end_index = last_letter_indexl\n",
    "                break\n",
    "                "
   ]
  },
  {
   "cell_type": "code",
   "execution_count": 3,
   "id": "fb400bb2",
   "metadata": {},
   "outputs": [
    {
     "data": {
      "text/plain": [
       "True"
      ]
     },
     "execution_count": 3,
     "metadata": {},
     "output_type": "execute_result"
    }
   ],
   "source": [
    "a = \"abcde\"\n",
    "\n",
    "len(a[1:3]) == len(a[0:2])\n",
    "\n",
    "3-1 == 2-0"
   ]
  }
 ],
 "metadata": {
  "kernelspec": {
   "display_name": "Python 3",
   "language": "python",
   "name": "python3"
  },
  "language_info": {
   "codemirror_mode": {
    "name": "ipython",
    "version": 3
   },
   "file_extension": ".py",
   "mimetype": "text/x-python",
   "name": "python",
   "nbconvert_exporter": "python",
   "pygments_lexer": "ipython3",
   "version": "3.8.8"
  }
 },
 "nbformat": 4,
 "nbformat_minor": 5
}
